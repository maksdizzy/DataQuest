{
 "cells": [
  {
   "cell_type": "markdown",
   "metadata": {},
   "source": [
    "# Storing Storm Data\n",
    "\n",
    "## About:\n",
    "\n",
    "International Hurricane Watchgroup (IHW) has been asked to update their analysis tools. Because of the increase in public awareness of hurricanes, they are required to be more diligient with the analysis of historical hurricane data they share across the organization, and want to productionize their services.\n",
    "\n",
    "Current method of sharing the data with their data anaylsts has been to save a CSV file on their local servers and have every data analyst pull the data down. Then, each analyst uses a local SQLite engine to store the CSV, run their queries, and send their results around.\n",
    "\n",
    "## Goal:\n",
    "Convert data file into PostgreSQL database\n",
    "\n",
    "### [Dataset](https://dq-content.s3.amazonaws.com/251/storm_data.csv) description:\n",
    "- fid - ID for the row\n",
    "- year - Recorded year\n",
    "- month - Recorded month\n",
    "- day - Recorded date\n",
    "- ad_time - Recorded time in UTC\n",
    "- btid - Hurricane ID\n",
    "- name - Name of the hurricane\n",
    "- lat - Latitude of the recorded location\n",
    "- long - Longitude of the recorded location\n",
    "- wind_kts - Wind speed in knots per second\n",
    "- pressure - Atmospheric pressure of the hurricane\n",
    "- cat - Hurricane category\n",
    "- basin - The basin the hurricane is located\n",
    "- shape_leng - Hurricane shape length"
   ]
  },
  {
   "cell_type": "markdown",
   "metadata": {},
   "source": [
    "#### Importing libs"
   ]
  },
  {
   "cell_type": "code",
   "execution_count": 54,
   "metadata": {},
   "outputs": [],
   "source": [
    "import io\n",
    "import csv\n",
    "import psycopg2\n",
    "from datetime import datetime\n",
    "from urllib import request"
   ]
  },
  {
   "cell_type": "markdown",
   "metadata": {},
   "source": [
    "#### Downloading and examining the data"
   ]
  },
  {
   "cell_type": "code",
   "execution_count": 16,
   "metadata": {},
   "outputs": [],
   "source": [
    "response = request.urlopen(\"https://dq-content.s3.amazonaws.com/251/storm_data.csv\")\n",
    "reader = csv.reader(io.TextIOWrapper(response))"
   ]
  },
  {
   "cell_type": "code",
   "execution_count": 17,
   "metadata": {},
   "outputs": [],
   "source": [
    "# check max len of name, cat columns\n",
    "max_len_name = 0\n",
    "max_len_cat = 0\n",
    "for line in reader:\n",
    "    if len(line[6]) > max_len_name:\n",
    "        max_len_name = len(line[6])\n",
    "    if len(line[11]) > max_len_cat:\n",
    "        max_len_cat = len(line[1])"
   ]
  },
  {
   "cell_type": "code",
   "execution_count": 18,
   "metadata": {},
   "outputs": [
    {
     "name": "stdout",
     "output_type": "stream",
     "text": [
      "9\n",
      "4\n"
     ]
    }
   ],
   "source": [
    "print(max_len_name)\n",
    "print(max_len_cat)"
   ]
  },
  {
   "cell_type": "markdown",
   "metadata": {},
   "source": [
    "#### Connecting to local database"
   ]
  },
  {
   "cell_type": "markdown",
   "metadata": {},
   "source": [
    "Database IWH was created directly in psql via console"
   ]
  },
  {
   "cell_type": "code",
   "execution_count": 109,
   "metadata": {},
   "outputs": [],
   "source": [
    "conn = psycopg2.connect(dbname='ihw', user='postgres', password='1138') # need to place your own password\n",
    "cur = conn.cursor()"
   ]
  },
  {
   "cell_type": "markdown",
   "metadata": {},
   "source": [
    "#### Creating table for data storing"
   ]
  },
  {
   "cell_type": "code",
   "execution_count": 110,
   "metadata": {},
   "outputs": [],
   "source": [
    "query = \"\"\"\n",
    "        DROP TABLE IF EXISTS storm_data;\n",
    "        \"\"\"\n",
    "cur.execute(query)\n",
    "conn.commit()"
   ]
  },
  {
   "cell_type": "code",
   "execution_count": 111,
   "metadata": {},
   "outputs": [],
   "source": [
    "query = \"\"\"\n",
    "        CREATE TABLE storm_data (fid INTEGER PRIMARY KEY,\n",
    "                                 datetime_utc TIMESTAMP,\n",
    "                                 btid INTEGER,\n",
    "                                 name VARCHAR(9),\n",
    "                                 lat REAL,\n",
    "                                 long REAL,\n",
    "                                 wind_kts INTEGER,\n",
    "                                 pressure INTEGER,\n",
    "                                 cat VARCHAR(4),\n",
    "                                 basin TEXT,\n",
    "                                 shape_leng REAL\n",
    "                                )\n",
    "        \"\"\"\n",
    "cur.execute(query)\n",
    "conn.commit()"
   ]
  },
  {
   "cell_type": "markdown",
   "metadata": {},
   "source": [
    "#### Reading data to table"
   ]
  },
  {
   "cell_type": "code",
   "execution_count": 112,
   "metadata": {},
   "outputs": [],
   "source": [
    "response = request.urlopen(\"https://dq-content.s3.amazonaws.com/251/storm_data.csv\")\n",
    "reader = csv.reader(io.TextIOWrapper(response))"
   ]
  },
  {
   "cell_type": "code",
   "execution_count": 113,
   "metadata": {},
   "outputs": [],
   "source": [
    "next(reader)\n",
    "for line in reader:\n",
    "    import_data = line[:1]\n",
    "    import_data.append(datetime(int(line[1]), int(line[2]), int(line[3]), int(line[4][:2]), int(line[4][2:-2])))\n",
    "    for i in range(5, 14):\n",
    "        import_data.append(line[i])\n",
    "    cur.execute(\"INSERT INTO storm_data VALUES (%s, %s, %s, %s, %s, %s, %s, %s, %s, %s, %s)\", import_data)\n",
    "conn.commit()    "
   ]
  },
  {
   "cell_type": "code",
   "execution_count": 114,
   "metadata": {},
   "outputs": [
    {
     "data": {
      "text/plain": [
       "(Column(name='fid', type_code=23, display_size=None, internal_size=4, precision=None, scale=None, null_ok=None),\n",
       " Column(name='datetime_utc', type_code=1114, display_size=None, internal_size=8, precision=None, scale=None, null_ok=None),\n",
       " Column(name='btid', type_code=23, display_size=None, internal_size=4, precision=None, scale=None, null_ok=None),\n",
       " Column(name='name', type_code=1043, display_size=None, internal_size=9, precision=None, scale=None, null_ok=None),\n",
       " Column(name='lat', type_code=700, display_size=None, internal_size=4, precision=None, scale=None, null_ok=None),\n",
       " Column(name='long', type_code=700, display_size=None, internal_size=4, precision=None, scale=None, null_ok=None),\n",
       " Column(name='wind_kts', type_code=23, display_size=None, internal_size=4, precision=None, scale=None, null_ok=None),\n",
       " Column(name='pressure', type_code=23, display_size=None, internal_size=4, precision=None, scale=None, null_ok=None),\n",
       " Column(name='cat', type_code=1043, display_size=None, internal_size=4, precision=None, scale=None, null_ok=None),\n",
       " Column(name='basin', type_code=25, display_size=None, internal_size=-1, precision=None, scale=None, null_ok=None),\n",
       " Column(name='shape_leng', type_code=700, display_size=None, internal_size=4, precision=None, scale=None, null_ok=None))"
      ]
     },
     "execution_count": 114,
     "metadata": {},
     "output_type": "execute_result"
    }
   ],
   "source": [
    "cur.execute(\"SELECT * FROM storm_data LIMIT 0\")\n",
    "cur.description"
   ]
  },
  {
   "cell_type": "code",
   "execution_count": 115,
   "metadata": {},
   "outputs": [
    {
     "name": "stdout",
     "output_type": "stream",
     "text": [
      "[(59228,)]\n"
     ]
    }
   ],
   "source": [
    "cur.execute(\"SELECT COUNT(fid) FROM storm_data\")\n",
    "print(cur.fetchall())"
   ]
  },
  {
   "cell_type": "markdown",
   "metadata": {},
   "source": [
    "### Creating a read-only user that can interact with data"
   ]
  },
  {
   "cell_type": "code",
   "execution_count": 116,
   "metadata": {},
   "outputs": [],
   "source": [
    "query = \"\"\"\n",
    "        CREATE USER data_viewer WITH PASSWORD 'pass';\n",
    "        REVOKE ALL ON storm_data FROM data_viewer;\n",
    "        GRANT SELECT ON storm_data TO data_viewer;\n",
    "        \"\"\"\n",
    "cur.execute(query)\n",
    "conn.commit()"
   ]
  },
  {
   "cell_type": "code",
   "execution_count": 117,
   "metadata": {},
   "outputs": [],
   "source": [
    "conn.close()"
   ]
  }
 ],
 "metadata": {
  "kernelspec": {
   "display_name": "Python 3",
   "language": "python",
   "name": "python3"
  },
  "language_info": {
   "codemirror_mode": {
    "name": "ipython",
    "version": 3
   },
   "file_extension": ".py",
   "mimetype": "text/x-python",
   "name": "python",
   "nbconvert_exporter": "python",
   "pygments_lexer": "ipython3",
   "version": "3.7.3"
  }
 },
 "nbformat": 4,
 "nbformat_minor": 2
}
